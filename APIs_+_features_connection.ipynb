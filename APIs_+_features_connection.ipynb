{
  "nbformat": 4,
  "nbformat_minor": 0,
  "metadata": {
    "colab": {
      "provenance": []
    },
    "kernelspec": {
      "name": "python3",
      "display_name": "Python 3"
    },
    "language_info": {
      "name": "python"
    }
  },
  "cells": [
    {
      "cell_type": "code",
      "execution_count": null,
      "metadata": {
        "colab": {
          "base_uri": "https://localhost:8080/"
        },
        "id": "KRJUIz1QVWHQ",
        "outputId": "f2ad2663-5b83-419f-d04a-69467685464c"
      },
      "outputs": [
        {
          "output_type": "stream",
          "name": "stdout",
          "text": [
            "Requirement already satisfied: pydub in /usr/local/lib/python3.10/dist-packages (0.25.1)\n"
          ]
        }
      ],
      "source": [
        "!pip install pydub"
      ]
    },
    {
      "cell_type": "code",
      "source": [
        "import zipfile\n",
        "import os\n",
        "\n",
        "def unzip_file(zip_file_path, extract_to='.'):\n",
        "    \"\"\"\n",
        "    Unzips the specified zip file into the specified directory.\n",
        "\n",
        "    :param zip_file_path: Path to the zip file.\n",
        "    :param extract_to: Directory to extract the contents to (default is the current directory).\n",
        "    \"\"\"\n",
        "    with zipfile.ZipFile(zip_file_path, 'r') as zip_ref:\n",
        "        zip_ref.extractall(extract_to)\n",
        "    print(f\"Extracted {zip_file_path} to {extract_to}\")\n",
        "\n",
        "zip_file_path = '/content/soo.zip'\n",
        "extract_to_path = '/content/alphabet'\n",
        "\n",
        "os.makedirs(extract_to_path, exist_ok=True)\n",
        "unzip_file(zip_file_path, extract_to_path)\n",
        "\n",
        "!ls -l {extract_to_path}"
      ],
      "metadata": {
        "colab": {
          "base_uri": "https://localhost:8080/"
        },
        "id": "oCcfcPZ1WPcC",
        "outputId": "287de5f4-db43-4319-b2f4-aa07e0f11d67"
      },
      "execution_count": null,
      "outputs": [
        {
          "output_type": "stream",
          "name": "stdout",
          "text": [
            "Extracted /content/soo.zip to /content/alphabet\n",
            "total 9732\n",
            "-rw-r--r-- 1 root root 227600 May 18 10:58 А.wav\n",
            "-rw-r--r-- 1 root root 246476 May 18 10:58 Ә.wav\n",
            "-rw-r--r-- 1 root root 226188 May 18 10:58 Б.wav\n",
            "-rw-r--r-- 1 root root 251592 May 18 10:58 В.wav\n",
            "-rw-r--r-- 1 root root 245416 May 18 10:58 Г.wav\n",
            "-rw-r--r-- 1 root root 246828 May 18 10:58 Д.wav\n",
            "-rw-r--r-- 1 root root 250708 May 18 10:58 Е.wav\n",
            "-rw-r--r-- 1 root root 265700 May 18 10:58 Ё.wav\n",
            "-rw-r--r-- 1 root root 255468 May 18 10:58 Ж.wav\n",
            "-rw-r--r-- 1 root root 274876 May 18 10:58 Җ.wav\n",
            "-rw-r--r-- 1 root root 250884 May 18 10:58 З.wav\n",
            "-rw-r--r-- 1 root root 220544 May 18 10:58 И.wav\n",
            "-rw-r--r-- 1 root root 320564 May 18 10:58 Й.wav\n",
            "-rw-r--r-- 1 root root 230600 May 18 10:58 К.wav\n",
            "-rw-r--r-- 1 root root 239948 May 18 10:58 Л.wav\n",
            "-rw-r--r-- 1 root root 237124 May 18 10:58 М.wav\n",
            "-rw-r--r-- 1 root root 236244 May 18 10:58 Н.wav\n",
            "-rw-r--r-- 1 root root 246648 May 18 10:58 Ң.wav\n",
            "-rw-r--r-- 1 root root 234124 May 18 10:58 О.wav\n",
            "-rw-r--r-- 1 root root 248416 May 18 10:58 Ө.wav\n",
            "-rw-r--r-- 1 root root 218428 May 18 10:58 П.wav\n",
            "-rw-r--r-- 1 root root 234304 May 18 10:58 Р.wav\n",
            "-rw-r--r-- 1 root root 261292 May 18 10:58 С.wav\n",
            "-rw-r--r-- 1 root root 223896 May 18 10:58 Т.wav\n",
            "-rw-r--r-- 1 root root 232012 May 18 10:58 У.wav\n",
            "-rw-r--r-- 1 root root 265176 May 18 10:58 Ү.wav\n",
            "-rw-r--r-- 1 root root 241184 May 18 10:58 Ф.wav\n",
            "-rw-r--r-- 1 root root 242772 May 18 10:58 Х.wav\n",
            "-rw-r--r-- 1 root root 269936 May 18 10:58 Һ.wav\n",
            "-rw-r--r-- 1 root root 225308 May 18 10:58 Ц.wav\n",
            "-rw-r--r-- 1 root root 227424 May 18 10:58 Ч.wav\n",
            "-rw-r--r-- 1 root root 251588 May 18 10:58 Ш.wav\n",
            "-rw-r--r-- 1 root root 281400 May 18 10:58 Щ.wav\n",
            "-rw-r--r-- 1 root root 378068 May 18 10:58 Ъ.wav\n",
            "-rw-r--r-- 1 root root 222840 May 18 10:58 Ы.wav\n",
            "-rw-r--r-- 1 root root 395180 May 18 10:58 Ь.wav\n",
            "-rw-r--r-- 1 root root 233244 May 18 10:58 Э.wav\n",
            "-rw-r--r-- 1 root root 268352 May 18 10:58 Ю.wav\n",
            "-rw-r--r-- 1 root root 256708 May 18 10:58 Я.wav\n"
          ]
        }
      ]
    },
    {
      "cell_type": "code",
      "source": [
        "import librosa\n",
        "\n",
        "def print_audio_length(audio_path):\n",
        "    \"\"\"\n",
        "    Prints the length of the audio file in seconds.\n",
        "\n",
        "    :param audio_path: Path to the audio file.\n",
        "    \"\"\"\n",
        "    y, sr = librosa.load(audio_path, sr=None)\n",
        "    duration = librosa.get_duration(y=y, sr=sr)\n",
        "\n",
        "    print(f\"Length of the audio file: {duration:.2f} seconds\")\n",
        "\n",
        "audio_path = '/content/test hack 1-10.wav'\n",
        "print_audio_length(audio_path)"
      ],
      "metadata": {
        "colab": {
          "base_uri": "https://localhost:8080/"
        },
        "id": "YpVKdKOCXbIo",
        "outputId": "5999d09b-71ab-4553-cdfb-8dda22532be3"
      },
      "execution_count": null,
      "outputs": [
        {
          "output_type": "stream",
          "name": "stdout",
          "text": [
            "Length of the audio file: 6.93 seconds\n"
          ]
        },
        {
          "output_type": "stream",
          "name": "stderr",
          "text": [
            "<ipython-input-26-8a930ba39686>:10: UserWarning: PySoundFile failed. Trying audioread instead.\n",
            "  y, sr = librosa.load(audio_path, sr=None)\n",
            "/usr/local/lib/python3.10/dist-packages/librosa/core/audio.py:184: FutureWarning: librosa.core.audio.__audioread_load\n",
            "\tDeprecated as of librosa version 0.10.0.\n",
            "\tIt will be removed in librosa version 1.0.\n",
            "  y, sr_native = __audioread_load(path, offset, duration, dtype)\n"
          ]
        }
      ]
    },
    {
      "cell_type": "code",
      "source": [
        "!pip install audio_effects"
      ],
      "metadata": {
        "colab": {
          "base_uri": "https://localhost:8080/"
        },
        "id": "-DdOO3Xyjaiv",
        "outputId": "2b53005c-0df9-40f8-e662-f9984e18d233"
      },
      "execution_count": null,
      "outputs": [
        {
          "output_type": "stream",
          "name": "stdout",
          "text": [
            "Collecting audio_effects\n",
            "  Downloading audio_effects-0.22.tar.gz (62 kB)\n",
            "\u001b[2K     \u001b[90m━━━━━━━━━━━━━━━━━━━━━━━━━━━━━━━━━━━━━━━━\u001b[0m \u001b[32m62.1/62.1 kB\u001b[0m \u001b[31m648.6 kB/s\u001b[0m eta \u001b[36m0:00:00\u001b[0m\n",
            "\u001b[?25h  Preparing metadata (setup.py) ... \u001b[?25l\u001b[?25hdone\n",
            "Requirement already satisfied: pydub in /usr/local/lib/python3.10/dist-packages (from audio_effects) (0.25.1)\n",
            "Requirement already satisfied: numpy in /usr/local/lib/python3.10/dist-packages (from audio_effects) (1.25.2)\n",
            "Building wheels for collected packages: audio_effects\n",
            "  Building wheel for audio_effects (setup.py) ... \u001b[?25l\u001b[?25hdone\n",
            "  Created wheel for audio_effects: filename=audio_effects-0.22-py3-none-any.whl size=5475 sha256=a59a81fe798fcbc4e1bc6e72426141ceed93e01f72109f84735ae58189e7c05e\n",
            "  Stored in directory: /root/.cache/pip/wheels/4f/ac/78/c0ae3f211bf5aaf54ee9a8c044d4e8cf5cc4daf4fdae547384\n",
            "Successfully built audio_effects\n",
            "Installing collected packages: audio_effects\n",
            "Successfully installed audio_effects-0.22\n"
          ]
        }
      ]
    },
    {
      "cell_type": "code",
      "source": [
        "!pip install soundfile pyrubberband"
      ],
      "metadata": {
        "colab": {
          "base_uri": "https://localhost:8080/"
        },
        "id": "kBUnI8JW3rpk",
        "outputId": "e6ec5d23-c58d-4d98-fd0e-58a6dc10dbe0"
      },
      "execution_count": null,
      "outputs": [
        {
          "output_type": "stream",
          "name": "stdout",
          "text": [
            "Requirement already satisfied: soundfile in /usr/local/lib/python3.10/dist-packages (0.12.1)\n",
            "Requirement already satisfied: pyrubberband in /usr/local/lib/python3.10/dist-packages (0.3.0)\n",
            "Requirement already satisfied: cffi>=1.0 in /usr/local/lib/python3.10/dist-packages (from soundfile) (1.16.0)\n",
            "Requirement already satisfied: six in /usr/local/lib/python3.10/dist-packages (from pyrubberband) (1.16.0)\n",
            "Requirement already satisfied: pysoundfile>=0.8.0 in /usr/local/lib/python3.10/dist-packages (from pyrubberband) (0.9.0.post1)\n",
            "Requirement already satisfied: pycparser in /usr/local/lib/python3.10/dist-packages (from cffi>=1.0->soundfile) (2.22)\n"
          ]
        }
      ]
    },
    {
      "cell_type": "code",
      "source": [
        "import requests\n",
        "import base64\n",
        "\n",
        "def get_tts_audio(speaker, text):\n",
        "    api_url = 'https://tat-tts.api.translate.tatar/listening/'\n",
        "\n",
        "    params = {\n",
        "        'speaker': speaker,\n",
        "        'text': text\n",
        "    }\n",
        "\n",
        "    try:\n",
        "        response = requests.get(api_url, params=params, headers={'accept': 'application/json'})\n",
        "\n",
        "        if response.status_code == 200:\n",
        "            json_response = response.json()\n",
        "\n",
        "            wav_base64 = json_response['wav_base64']\n",
        "            sample_rate = json_response['sample_rate']\n",
        "\n",
        "            audio_data = base64.b64decode(wav_base64)\n",
        "\n",
        "            output_file = f'{speaker}_{text[:10]}.wav'\n",
        "            with open(output_file, 'wb') as f:\n",
        "                f.write(audio_data)\n",
        "\n",
        "            print(f'WAV file saved: {output_file}')\n",
        "            return output_file\n",
        "        else:\n",
        "            print(f'Failed to get response. Status code: {response.status_code}')\n",
        "            return None\n",
        "    except requests.RequestException as e:\n",
        "        print(f'Request failed: {e}')\n",
        "        return None\n",
        "\n",
        "# Example usage:\n",
        "if __name__ == \"__main__\":\n",
        "    speaker = 'almaz'\n",
        "    text = 'барыгызд да сәдам'\n",
        "\n",
        "    saved_file = get_tts_audio(speaker, text)\n",
        "\n",
        "    if saved_file:\n",
        "        print(f'TTS audio saved to: {saved_file}')\n",
        "    else:\n",
        "        print('Failed to retrieve TTS audio.')"
      ],
      "metadata": {
        "colab": {
          "base_uri": "https://localhost:8080/"
        },
        "id": "qPdhUVqd5iq4",
        "outputId": "4592b7c4-9898-428f-e558-2cffc98a4669"
      },
      "execution_count": null,
      "outputs": [
        {
          "output_type": "stream",
          "name": "stdout",
          "text": [
            "WAV file saved: almaz_барыгызд д.wav\n",
            "TTS audio saved to: almaz_барыгызд д.wav\n"
          ]
        }
      ]
    },
    {
      "cell_type": "code",
      "source": [
        "import requests\n",
        "import os\n",
        "\n",
        "def transcribe_audio(file_path):\n",
        "    api_url = 'https://tat-asr.api.translate.tatar/listening/'\n",
        "\n",
        "    file_name = os.path.basename(file_path)\n",
        "\n",
        "    with open(file_path, 'rb') as audio_file:\n",
        "        files = {\n",
        "            'file': (file_name, audio_file, 'audio/wav')\n",
        "        }\n",
        "\n",
        "        try:\n",
        "            response = requests.post(api_url, headers={'accept': 'application/json'}, files=files)\n",
        "\n",
        "            if response.status_code == 200:\n",
        "                json_response = response.json()\n",
        "\n",
        "                transcribed_text = json_response.get('text', '')\n",
        "                return transcribed_text\n",
        "            else:\n",
        "                print(f'Failed to get response. Status code: {response.status_code}')\n",
        "                return None\n",
        "        except requests.RequestException as e:\n",
        "            print(f'Request failed: {e}')\n",
        "            return None\n",
        "\n",
        "if __name__ == \"__main__\":\n",
        "    audio_file_path = '/content/almaz_барыгызга .wav'\n",
        "    transcription = transcribe_audio(audio_file_path)\n",
        "\n",
        "    if transcription:\n",
        "        print(f'Transcribed text: {transcription}')\n",
        "    else:\n",
        "        print('Failed to transcribe audio.')"
      ],
      "metadata": {
        "colab": {
          "base_uri": "https://localhost:8080/"
        },
        "id": "CLu2Nvey0Oj7",
        "outputId": "7457665e-2a4d-4b57-aacc-4c22df88c25a"
      },
      "execution_count": null,
      "outputs": [
        {
          "output_type": "stream",
          "name": "stdout",
          "text": [
            "Transcribed text: барыгызга да сәлам\n"
          ]
        }
      ]
    },
    {
      "cell_type": "code",
      "source": [
        "import requests\n",
        "import base64\n",
        "from pydub import AudioSegment\n",
        "import os\n",
        "\n",
        "def process_text_to_audio(input_text, speaker):\n",
        "    # Step 1: Split the input text into a list of words\n",
        "    words = input_text.split()\n",
        "\n",
        "    # Step 2: Get TTS audio for each word and save them\n",
        "    audio_files = []\n",
        "    for index, word in enumerate(words, start=1):\n",
        "        audio_file = get_tts_audio(speaker, word)\n",
        "        if audio_file:\n",
        "            new_file_name = f'word{index}.wav'\n",
        "            os.rename(audio_file, new_file_name)\n",
        "            audio_files.append(new_file_name)\n",
        "        else:\n",
        "            print(f\"Failed to get TTS for word: {word}\")\n",
        "\n",
        "    # Step 3: Calculate the duration of each audio file\n",
        "    durations = []\n",
        "    for audio_file in audio_files:\n",
        "        audio = AudioSegment.from_wav(audio_file)\n",
        "        durations.append(len(audio))\n",
        "\n",
        "    # Step 4: Combine all the individual audio files into one single audio file\n",
        "    combined = AudioSegment.empty()\n",
        "    for audio_file in audio_files:\n",
        "        audio = AudioSegment.from_wav(audio_file)\n",
        "        combined += audio\n",
        "\n",
        "    combined_output_file = 'combined_output.wav'\n",
        "    combined.export(combined_output_file, format='wav')\n",
        "\n",
        "    print(f'Combined audio file saved as: {combined_output_file}')\n",
        "    return combined_output_file, durations\n",
        "\n",
        "# Example usage\n",
        "if __name__ == \"__main__\":\n",
        "    input_text = 'барыгызга да сәлам'\n",
        "    speaker = 'almaz'   # Change the speaker if needed: almaz/alsu\n",
        "    combined_audio, durations = process_text_to_audio(input_text, speaker)\n",
        "\n",
        "    print(f'Combined audio file: {combined_audio}')\n",
        "    print(f'Durations of individual words: {durations}')"
      ],
      "metadata": {
        "colab": {
          "base_uri": "https://localhost:8080/"
        },
        "id": "NDlIunKbh0zZ",
        "outputId": "73be93a3-34f2-46fe-ff37-62f723372420"
      },
      "execution_count": null,
      "outputs": [
        {
          "output_type": "stream",
          "name": "stdout",
          "text": [
            "Combined audio file saved as: combined_output.wav\n",
            "Combined audio file: combined_output.wav\n",
            "Durations of individual words: [1289, 639, 499]\n"
          ]
        }
      ]
    },
    {
      "cell_type": "code",
      "source": [
        "from pydub import AudioSegment\n",
        "\n",
        "def get_audio_duration(input_audio_file):\n",
        "    audio = AudioSegment.from_file(input_audio_file, format=\"wav\")\n",
        "    duration_ms = len(audio)\n",
        "    return duration_ms"
      ],
      "metadata": {
        "id": "9ScTcaxrle49"
      },
      "execution_count": null,
      "outputs": []
    },
    {
      "cell_type": "code",
      "source": [
        "from pydub import AudioSegment\n",
        "from pydub.exceptions import CouldntDecodeError\n",
        "\n",
        "def duplicate_audio_segment(input_audio_file, start_ms, end_ms):\n",
        "    try:\n",
        "        audio = AudioSegment.from_file(input_audio_file, format=\"wav\")\n",
        "\n",
        "        start_ms = max(0, start_ms)\n",
        "        end_ms = min(end_ms, len(audio))\n",
        "\n",
        "        duration_ms = 20\n",
        "\n",
        "        duplicated_segments = []\n",
        "\n",
        "        for i in range(start_ms, end_ms, duration_ms):\n",
        "            segment = audio[i:min(i + duration_ms, end_ms)]\n",
        "            for j in range(2):\n",
        "\n",
        "                 duplicated_segments.append(segment)\n",
        "\n",
        "\n",
        "        duplicated_audio = sum(duplicated_segments)\n",
        "\n",
        "        original_before = audio[:start_ms]\n",
        "        original_after = audio[end_ms:]\n",
        "\n",
        "        final_audio = original_before + duplicated_audio + original_after\n",
        "\n",
        "        return final_audio\n",
        "\n",
        "    except CouldntDecodeError as e:\n",
        "        print(\"Could not decode the audio file. Please check the file format and content.\")\n",
        "        print(e)\n",
        "        return None\n",
        "\n",
        "# Example usage\n",
        "input_audio_file = \"/content/output.wav\"  # Replace with your audio file path\n",
        "start_ms = 2000  # Start point in milliseconds\n",
        "end_ms = 3000  # End point in milliseconds\n",
        "final_audio = duplicate_audio_segment(input_audio_file, start_ms, end_ms)\n",
        "\n",
        "if final_audio:\n",
        "    output_file = \"final_audio.wav\"\n",
        "    final_audio.export(output_file, format=\"wav\")"
      ],
      "metadata": {
        "id": "lvt_6gadQntx"
      },
      "execution_count": null,
      "outputs": []
    },
    {
      "cell_type": "code",
      "source": [
        "def slow_word_on_case(case_num,input_audio_file):\n",
        "    duration=get_audio_duration(input_audio_file)\n",
        "    if case_num==0:\n",
        "       return(AudioSegment.from_file(input_audio_file, format=\"wav\"))\n",
        "    if case_num==1:\n",
        "      return(duplicate_audio_segment(input_audio_file, 0, duration//2))\n",
        "    if case_num==2:\n",
        "      return(duplicate_audio_segment(input_audio_file,duration//2, duration))\n",
        "    if case_num==3:\n",
        "      return(duplicate_audio_segment(input_audio_file,0, duration))\n",
        "    else:\n",
        "      return -1\n",
        "final_audio = slow_word_on_case(1,\"/content/output.wav\")\n",
        "\n",
        "if final_audio:\n",
        "    output_file = \"final_audio.wav\"\n",
        "    final_audio.export(output_file, format=\"wav\")"
      ],
      "metadata": {
        "id": "gojOOns8SVZ2"
      },
      "execution_count": null,
      "outputs": []
    },
    {
      "cell_type": "code",
      "source": [
        "def slow_sesntence_on_case(case_num_array,input_audio_files_array):\n",
        "    final=[]\n",
        "    for case_num,word in zip(case_num_array,input_audio_files_array):\n",
        "        duration=get_audio_duration(word)\n",
        "        if case_num==0:\n",
        "           final.append(AudioSegment.from_file(word, format=\"wav\"))\n",
        "\n",
        "        if case_num==1:\n",
        "             final.append(duplicate_audio_segment(word, 0, duration//2))\n",
        "        if case_num==2:\n",
        "             final.append(duplicate_audio_segment(word,duration//2, duration))\n",
        "        if case_num==3:\n",
        "             final.append(duplicate_audio_segment(word,0, duration))\n",
        "\n",
        "    return sum(final)\n",
        "\n",
        "final_audio = slow_sesntence_on_case([3,0,2],[\"/content/word1.wav\",\"/content/word2.wav\",\"/content/word3.wav\"])\n",
        "\n",
        "if final_audio:\n",
        "    output_file = \"final_audio.wav\"\n",
        "    final_audio.export(output_file, format=\"wav\")"
      ],
      "metadata": {
        "id": "YFJGkVVRlq-D"
      },
      "execution_count": null,
      "outputs": []
    },
    {
      "cell_type": "code",
      "source": [
        "def compare(w1, w2):\n",
        "    if(len(w1) != len(w2)):\n",
        "        return 3\n",
        "    cnt = 0\n",
        "\n",
        "    for i in range(len(w1)):\n",
        "        if(w1[i] != w2[i]):\n",
        "            cnt+=1\n",
        "\n",
        "    if(cnt == 0):\n",
        "        return 0\n",
        "    elif(cnt >= 2):\n",
        "        return 3\n",
        "\n",
        "    for i in range(len(w1)):\n",
        "        if(w1[i] != w2[i]):\n",
        "            place = (i+1) / len(w1)\n",
        "            if(place <= 0.4):\n",
        "                return 1\n",
        "            elif(place > 0.4 and place < 0.6):\n",
        "                return 3\n",
        "            elif(place >= 0.6):\n",
        "                return 2\n",
        "\n",
        "\n",
        "def check_two_texts(s1, s2):\n",
        "    words1 = s1.split()\n",
        "    words2 = s2.split()\n",
        "    res = []\n",
        "    for i in range(len(words1)):\n",
        "        ans = compare(words1[i], words2[i])\n",
        "        res.append(ans)\n",
        "\n",
        "    print(res)\n",
        "    return res"
      ],
      "metadata": {
        "id": "Wd-kNz57Trq4"
      },
      "execution_count": null,
      "outputs": []
    },
    {
      "cell_type": "code",
      "source": [
        "import os\n",
        "from pydub import AudioSegment\n",
        "\n",
        "def main_workflow(original_text, user_audio_path, speaker='almaz'):\n",
        "    # Step 1: Convert original text to audio and get durations\n",
        "    combined_audio, durations = process_text_to_audio(original_text, speaker)\n",
        "\n",
        "    # Step 2: Create an array of paths for each word's audio\n",
        "    words = original_text.split()\n",
        "    word_audio_paths = [f'word{i+1}.wav' for i in range(len(words))]\n",
        "\n",
        "    # Step 3: Convert user audio to text using transcribe_audio\n",
        "    user_transcribed_text = transcribe_audio(user_audio_path)\n",
        "\n",
        "    if not user_transcribed_text:\n",
        "        print(\"Transcription of user audio failed.\")\n",
        "        return\n",
        "\n",
        "    # Step 4: Compare the original text with the user transcribed text\n",
        "    comparison_results = check_two_texts(original_text, user_transcribed_text)\n",
        "\n",
        "    # Step 5: Generate a new audio with slowed segments based on comparison results\n",
        "    slowed_audio = slow_sesntence_on_case(comparison_results, word_audio_paths)\n",
        "\n",
        "    if slowed_audio:\n",
        "        output_file = \"final_slowed_audio.wav\"\n",
        "        slowed_audio.export(output_file, format=\"wav\")\n",
        "        print(f'Final slowed audio file saved as: {output_file}')\n",
        "    else:\n",
        "        print(\"Failed to create slowed audio.\")\n",
        "\n",
        "# Example usage\n",
        "if __name__ == \"__main__\":\n",
        "    original_text = 'барыгызга да сәлам'  # Original text\n",
        "    user_audio_path = '/content/almaz_барыгызд д.wav'  # Path to the user's audio file\n",
        "    main_workflow(original_text, user_audio_path)"
      ],
      "metadata": {
        "colab": {
          "base_uri": "https://localhost:8080/"
        },
        "id": "XrotIvwkj-Lr",
        "outputId": "cb16d5ae-4e43-4315-8b34-2fd281c22aa7"
      },
      "execution_count": null,
      "outputs": [
        {
          "output_type": "stream",
          "name": "stdout",
          "text": [
            "WAV file saved: almaz_барыгызга.wav\n",
            "WAV file saved: almaz_да.wav\n",
            "WAV file saved: almaz_сәлам.wav\n",
            "Combined audio file saved as: combined_output.wav\n",
            "[3, 0, 2]\n",
            "Final slowed audio file saved as: final_slowed_audio.wav\n"
          ]
        }
      ]
    },
    {
      "cell_type": "code",
      "source": [],
      "metadata": {
        "id": "bW9VR5ixmrUA"
      },
      "execution_count": null,
      "outputs": []
    }
  ]
}