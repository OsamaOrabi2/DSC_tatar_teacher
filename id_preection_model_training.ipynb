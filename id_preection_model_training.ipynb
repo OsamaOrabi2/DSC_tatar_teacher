{
  "nbformat": 4,
  "nbformat_minor": 0,
  "metadata": {
    "colab": {
      "provenance": []
    },
    "kernelspec": {
      "name": "python3",
      "display_name": "Python 3"
    },
    "language_info": {
      "name": "python"
    }
  },
  "cells": [
    {
      "cell_type": "code",
      "source": [
        "import requests\n",
        "import base64\n",
        "\n",
        "def get_tts_audio(speaker, text, path):\n",
        "    # API endpoint\n",
        "    api_url = 'https://tat-tts.api.translate.tatar/listening/'\n",
        "\n",
        "    # Parameters\n",
        "    params = {\n",
        "        'speaker': speaker,\n",
        "        'text': text\n",
        "    }\n",
        "\n",
        "    try:\n",
        "        # Perform the GET request with parameters\n",
        "        response = requests.get(api_url, params=params, headers={'accept': 'application/json'})\n",
        "\n",
        "        # Check if request was successful\n",
        "        if response.status_code == 200:\n",
        "            # Parse JSON response\n",
        "            json_response = response.json()\n",
        "\n",
        "            # Extract WAV data and sample rate from JSON\n",
        "            wav_base64 = json_response['wav_base64']\n",
        "            sample_rate = json_response['sample_rate']\n",
        "\n",
        "            # Decode base64 to binary\n",
        "            audio_data = base64.b64decode(wav_base64)\n",
        "\n",
        "            # Write the binary audio data to a WAV file\n",
        "            output_file =path+'/'+ f'{speaker}_{text[:10]}.wav'  # Limiting text length for filename\n",
        "            with open(output_file, 'wb') as f:\n",
        "                f.write(audio_data)\n",
        "\n",
        "            print(f'WAV file saved: {output_file}')\n",
        "            return output_file\n",
        "        else:\n",
        "            print(f'Failed to get response. Status code: {response.status_code}')\n",
        "            return None\n",
        "    except requests.RequestException as e:\n",
        "        print(f'Request failed: {e}')\n",
        "        return None\n",
        "#alsu\n",
        "tatar_strings = [\n",
        "    \"сөю\", \"бәхет\", \"дуслык\", \"гаилә\", \"татулык\", \"мәгариф\", \"мәдәният\", \"тарих\", \"халык\", \"җир\",\n",
        "    \"су\", \"икмәк\", \"китап\", \"мәктәп\", \"университет\", \"дәрес\", \"укытучы\", \"укучы\", \"студент\", \"профессор\",\n",
        "    \"табиб\", \"шәфкать туташы\", \"инженер\", \"программист\", \"композитор\", \"шагыйрь\", \"язучы\", \"җыр\", \"музыка\", \"бәйрәм\",\n",
        "    \"кино\", \"театр\", \"сәнгать\", \"рәссам\", \"скульптор\", \"авыл\", \"шәһәр\", \"урам\", \"йорт\", \"туган\",\n",
        "    \"әти\", \"әни\", \"бала\", \"ир\", \"хатын\", \"бабай\", \"әби\", \"онык\", \"чәчәк\", \"көз\"\n",
        "]\n",
        "for st in tatar_strings:\n",
        "      speaker = 'almaz'\n",
        "      text = st\n",
        "\n",
        "      saved_file = get_tts_audio(speaker, text, \"/content/data/almaz\")\n",
        "\n",
        "      if saved_file:\n",
        "          print(f'TTS audio saved to: {saved_file}')\n",
        "      else:\n",
        "          print('Failed to retrieve TTS audio.')\n",
        "for st in tatar_strings:\n",
        "      speaker = 'alsu'\n",
        "      text = st\n",
        "\n",
        "      saved_file = get_tts_audio(speaker, text, \"/content/data/alsu\")\n",
        "\n",
        "      if saved_file:\n",
        "          print(f'TTS audio saved to: {saved_file}')\n",
        "      else:\n",
        "          print('Failed to retrieve TTS audio.')\n"
      ],
      "metadata": {
        "colab": {
          "base_uri": "https://localhost:8080/"
        },
        "id": "yWFJQpGavAge",
        "outputId": "11a7ccd5-8311-4fee-cf39-664e788b3719"
      },
      "execution_count": 3,
      "outputs": [
        {
          "output_type": "stream",
          "name": "stdout",
          "text": [
            "WAV file saved: /content/data/almaz/almaz_сөю.wav\n",
            "TTS audio saved to: /content/data/almaz/almaz_сөю.wav\n",
            "WAV file saved: /content/data/almaz/almaz_бәхет.wav\n",
            "TTS audio saved to: /content/data/almaz/almaz_бәхет.wav\n",
            "WAV file saved: /content/data/almaz/almaz_дуслык.wav\n",
            "TTS audio saved to: /content/data/almaz/almaz_дуслык.wav\n",
            "WAV file saved: /content/data/almaz/almaz_гаилә.wav\n",
            "TTS audio saved to: /content/data/almaz/almaz_гаилә.wav\n",
            "WAV file saved: /content/data/almaz/almaz_татулык.wav\n",
            "TTS audio saved to: /content/data/almaz/almaz_татулык.wav\n",
            "WAV file saved: /content/data/almaz/almaz_мәгариф.wav\n",
            "TTS audio saved to: /content/data/almaz/almaz_мәгариф.wav\n",
            "WAV file saved: /content/data/almaz/almaz_мәдәният.wav\n",
            "TTS audio saved to: /content/data/almaz/almaz_мәдәният.wav\n",
            "WAV file saved: /content/data/almaz/almaz_тарих.wav\n",
            "TTS audio saved to: /content/data/almaz/almaz_тарих.wav\n",
            "WAV file saved: /content/data/almaz/almaz_халык.wav\n",
            "TTS audio saved to: /content/data/almaz/almaz_халык.wav\n",
            "WAV file saved: /content/data/almaz/almaz_җир.wav\n",
            "TTS audio saved to: /content/data/almaz/almaz_җир.wav\n",
            "WAV file saved: /content/data/almaz/almaz_су.wav\n",
            "TTS audio saved to: /content/data/almaz/almaz_су.wav\n",
            "WAV file saved: /content/data/almaz/almaz_икмәк.wav\n",
            "TTS audio saved to: /content/data/almaz/almaz_икмәк.wav\n",
            "WAV file saved: /content/data/almaz/almaz_китап.wav\n",
            "TTS audio saved to: /content/data/almaz/almaz_китап.wav\n",
            "WAV file saved: /content/data/almaz/almaz_мәктәп.wav\n",
            "TTS audio saved to: /content/data/almaz/almaz_мәктәп.wav\n",
            "WAV file saved: /content/data/almaz/almaz_университе.wav\n",
            "TTS audio saved to: /content/data/almaz/almaz_университе.wav\n",
            "WAV file saved: /content/data/almaz/almaz_дәрес.wav\n",
            "TTS audio saved to: /content/data/almaz/almaz_дәрес.wav\n",
            "WAV file saved: /content/data/almaz/almaz_укытучы.wav\n",
            "TTS audio saved to: /content/data/almaz/almaz_укытучы.wav\n",
            "WAV file saved: /content/data/almaz/almaz_укучы.wav\n",
            "TTS audio saved to: /content/data/almaz/almaz_укучы.wav\n",
            "WAV file saved: /content/data/almaz/almaz_студент.wav\n",
            "TTS audio saved to: /content/data/almaz/almaz_студент.wav\n",
            "WAV file saved: /content/data/almaz/almaz_профессор.wav\n",
            "TTS audio saved to: /content/data/almaz/almaz_профессор.wav\n",
            "WAV file saved: /content/data/almaz/almaz_табиб.wav\n",
            "TTS audio saved to: /content/data/almaz/almaz_табиб.wav\n",
            "WAV file saved: /content/data/almaz/almaz_шәфкать ту.wav\n",
            "TTS audio saved to: /content/data/almaz/almaz_шәфкать ту.wav\n",
            "WAV file saved: /content/data/almaz/almaz_инженер.wav\n",
            "TTS audio saved to: /content/data/almaz/almaz_инженер.wav\n",
            "WAV file saved: /content/data/almaz/almaz_программис.wav\n",
            "TTS audio saved to: /content/data/almaz/almaz_программис.wav\n",
            "WAV file saved: /content/data/almaz/almaz_композитор.wav\n",
            "TTS audio saved to: /content/data/almaz/almaz_композитор.wav\n",
            "WAV file saved: /content/data/almaz/almaz_шагыйрь.wav\n",
            "TTS audio saved to: /content/data/almaz/almaz_шагыйрь.wav\n",
            "WAV file saved: /content/data/almaz/almaz_язучы.wav\n",
            "TTS audio saved to: /content/data/almaz/almaz_язучы.wav\n",
            "WAV file saved: /content/data/almaz/almaz_җыр.wav\n",
            "TTS audio saved to: /content/data/almaz/almaz_җыр.wav\n",
            "WAV file saved: /content/data/almaz/almaz_музыка.wav\n",
            "TTS audio saved to: /content/data/almaz/almaz_музыка.wav\n",
            "WAV file saved: /content/data/almaz/almaz_бәйрәм.wav\n",
            "TTS audio saved to: /content/data/almaz/almaz_бәйрәм.wav\n",
            "WAV file saved: /content/data/almaz/almaz_кино.wav\n",
            "TTS audio saved to: /content/data/almaz/almaz_кино.wav\n",
            "WAV file saved: /content/data/almaz/almaz_театр.wav\n",
            "TTS audio saved to: /content/data/almaz/almaz_театр.wav\n",
            "WAV file saved: /content/data/almaz/almaz_сәнгать.wav\n",
            "TTS audio saved to: /content/data/almaz/almaz_сәнгать.wav\n",
            "WAV file saved: /content/data/almaz/almaz_рәссам.wav\n",
            "TTS audio saved to: /content/data/almaz/almaz_рәссам.wav\n",
            "WAV file saved: /content/data/almaz/almaz_скульптор.wav\n",
            "TTS audio saved to: /content/data/almaz/almaz_скульптор.wav\n",
            "WAV file saved: /content/data/almaz/almaz_авыл.wav\n",
            "TTS audio saved to: /content/data/almaz/almaz_авыл.wav\n",
            "WAV file saved: /content/data/almaz/almaz_шәһәр.wav\n",
            "TTS audio saved to: /content/data/almaz/almaz_шәһәр.wav\n",
            "WAV file saved: /content/data/almaz/almaz_урам.wav\n",
            "TTS audio saved to: /content/data/almaz/almaz_урам.wav\n",
            "WAV file saved: /content/data/almaz/almaz_йорт.wav\n",
            "TTS audio saved to: /content/data/almaz/almaz_йорт.wav\n",
            "WAV file saved: /content/data/almaz/almaz_туган.wav\n",
            "TTS audio saved to: /content/data/almaz/almaz_туган.wav\n",
            "WAV file saved: /content/data/almaz/almaz_әти.wav\n",
            "TTS audio saved to: /content/data/almaz/almaz_әти.wav\n",
            "WAV file saved: /content/data/almaz/almaz_әни.wav\n",
            "TTS audio saved to: /content/data/almaz/almaz_әни.wav\n",
            "WAV file saved: /content/data/almaz/almaz_бала.wav\n",
            "TTS audio saved to: /content/data/almaz/almaz_бала.wav\n",
            "WAV file saved: /content/data/almaz/almaz_ир.wav\n",
            "TTS audio saved to: /content/data/almaz/almaz_ир.wav\n",
            "WAV file saved: /content/data/almaz/almaz_хатын.wav\n",
            "TTS audio saved to: /content/data/almaz/almaz_хатын.wav\n",
            "WAV file saved: /content/data/almaz/almaz_бабай.wav\n",
            "TTS audio saved to: /content/data/almaz/almaz_бабай.wav\n",
            "WAV file saved: /content/data/almaz/almaz_әби.wav\n",
            "TTS audio saved to: /content/data/almaz/almaz_әби.wav\n",
            "WAV file saved: /content/data/almaz/almaz_онык.wav\n",
            "TTS audio saved to: /content/data/almaz/almaz_онык.wav\n",
            "WAV file saved: /content/data/almaz/almaz_чәчәк.wav\n",
            "TTS audio saved to: /content/data/almaz/almaz_чәчәк.wav\n",
            "WAV file saved: /content/data/almaz/almaz_көз.wav\n",
            "TTS audio saved to: /content/data/almaz/almaz_көз.wav\n",
            "WAV file saved: /content/data/alsu/alsu_сөю.wav\n",
            "TTS audio saved to: /content/data/alsu/alsu_сөю.wav\n",
            "WAV file saved: /content/data/alsu/alsu_бәхет.wav\n",
            "TTS audio saved to: /content/data/alsu/alsu_бәхет.wav\n",
            "WAV file saved: /content/data/alsu/alsu_дуслык.wav\n",
            "TTS audio saved to: /content/data/alsu/alsu_дуслык.wav\n",
            "WAV file saved: /content/data/alsu/alsu_гаилә.wav\n",
            "TTS audio saved to: /content/data/alsu/alsu_гаилә.wav\n",
            "WAV file saved: /content/data/alsu/alsu_татулык.wav\n",
            "TTS audio saved to: /content/data/alsu/alsu_татулык.wav\n",
            "WAV file saved: /content/data/alsu/alsu_мәгариф.wav\n",
            "TTS audio saved to: /content/data/alsu/alsu_мәгариф.wav\n",
            "WAV file saved: /content/data/alsu/alsu_мәдәният.wav\n",
            "TTS audio saved to: /content/data/alsu/alsu_мәдәният.wav\n",
            "WAV file saved: /content/data/alsu/alsu_тарих.wav\n",
            "TTS audio saved to: /content/data/alsu/alsu_тарих.wav\n",
            "WAV file saved: /content/data/alsu/alsu_халык.wav\n",
            "TTS audio saved to: /content/data/alsu/alsu_халык.wav\n",
            "WAV file saved: /content/data/alsu/alsu_җир.wav\n",
            "TTS audio saved to: /content/data/alsu/alsu_җир.wav\n",
            "WAV file saved: /content/data/alsu/alsu_су.wav\n",
            "TTS audio saved to: /content/data/alsu/alsu_су.wav\n",
            "WAV file saved: /content/data/alsu/alsu_икмәк.wav\n",
            "TTS audio saved to: /content/data/alsu/alsu_икмәк.wav\n",
            "WAV file saved: /content/data/alsu/alsu_китап.wav\n",
            "TTS audio saved to: /content/data/alsu/alsu_китап.wav\n",
            "WAV file saved: /content/data/alsu/alsu_мәктәп.wav\n",
            "TTS audio saved to: /content/data/alsu/alsu_мәктәп.wav\n",
            "WAV file saved: /content/data/alsu/alsu_университе.wav\n",
            "TTS audio saved to: /content/data/alsu/alsu_университе.wav\n",
            "WAV file saved: /content/data/alsu/alsu_дәрес.wav\n",
            "TTS audio saved to: /content/data/alsu/alsu_дәрес.wav\n",
            "WAV file saved: /content/data/alsu/alsu_укытучы.wav\n",
            "TTS audio saved to: /content/data/alsu/alsu_укытучы.wav\n",
            "WAV file saved: /content/data/alsu/alsu_укучы.wav\n",
            "TTS audio saved to: /content/data/alsu/alsu_укучы.wav\n",
            "WAV file saved: /content/data/alsu/alsu_студент.wav\n",
            "TTS audio saved to: /content/data/alsu/alsu_студент.wav\n",
            "WAV file saved: /content/data/alsu/alsu_профессор.wav\n",
            "TTS audio saved to: /content/data/alsu/alsu_профессор.wav\n",
            "WAV file saved: /content/data/alsu/alsu_табиб.wav\n",
            "TTS audio saved to: /content/data/alsu/alsu_табиб.wav\n",
            "WAV file saved: /content/data/alsu/alsu_шәфкать ту.wav\n",
            "TTS audio saved to: /content/data/alsu/alsu_шәфкать ту.wav\n",
            "WAV file saved: /content/data/alsu/alsu_инженер.wav\n",
            "TTS audio saved to: /content/data/alsu/alsu_инженер.wav\n",
            "WAV file saved: /content/data/alsu/alsu_программис.wav\n",
            "TTS audio saved to: /content/data/alsu/alsu_программис.wav\n",
            "WAV file saved: /content/data/alsu/alsu_композитор.wav\n",
            "TTS audio saved to: /content/data/alsu/alsu_композитор.wav\n",
            "WAV file saved: /content/data/alsu/alsu_шагыйрь.wav\n",
            "TTS audio saved to: /content/data/alsu/alsu_шагыйрь.wav\n",
            "WAV file saved: /content/data/alsu/alsu_язучы.wav\n",
            "TTS audio saved to: /content/data/alsu/alsu_язучы.wav\n",
            "WAV file saved: /content/data/alsu/alsu_җыр.wav\n",
            "TTS audio saved to: /content/data/alsu/alsu_җыр.wav\n",
            "WAV file saved: /content/data/alsu/alsu_музыка.wav\n",
            "TTS audio saved to: /content/data/alsu/alsu_музыка.wav\n",
            "WAV file saved: /content/data/alsu/alsu_бәйрәм.wav\n",
            "TTS audio saved to: /content/data/alsu/alsu_бәйрәм.wav\n",
            "WAV file saved: /content/data/alsu/alsu_кино.wav\n",
            "TTS audio saved to: /content/data/alsu/alsu_кино.wav\n",
            "WAV file saved: /content/data/alsu/alsu_театр.wav\n",
            "TTS audio saved to: /content/data/alsu/alsu_театр.wav\n",
            "WAV file saved: /content/data/alsu/alsu_сәнгать.wav\n",
            "TTS audio saved to: /content/data/alsu/alsu_сәнгать.wav\n",
            "WAV file saved: /content/data/alsu/alsu_рәссам.wav\n",
            "TTS audio saved to: /content/data/alsu/alsu_рәссам.wav\n",
            "WAV file saved: /content/data/alsu/alsu_скульптор.wav\n",
            "TTS audio saved to: /content/data/alsu/alsu_скульптор.wav\n",
            "WAV file saved: /content/data/alsu/alsu_авыл.wav\n",
            "TTS audio saved to: /content/data/alsu/alsu_авыл.wav\n",
            "WAV file saved: /content/data/alsu/alsu_шәһәр.wav\n",
            "TTS audio saved to: /content/data/alsu/alsu_шәһәр.wav\n",
            "WAV file saved: /content/data/alsu/alsu_урам.wav\n",
            "TTS audio saved to: /content/data/alsu/alsu_урам.wav\n",
            "WAV file saved: /content/data/alsu/alsu_йорт.wav\n",
            "TTS audio saved to: /content/data/alsu/alsu_йорт.wav\n",
            "WAV file saved: /content/data/alsu/alsu_туган.wav\n",
            "TTS audio saved to: /content/data/alsu/alsu_туган.wav\n",
            "WAV file saved: /content/data/alsu/alsu_әти.wav\n",
            "TTS audio saved to: /content/data/alsu/alsu_әти.wav\n",
            "WAV file saved: /content/data/alsu/alsu_әни.wav\n",
            "TTS audio saved to: /content/data/alsu/alsu_әни.wav\n",
            "WAV file saved: /content/data/alsu/alsu_бала.wav\n",
            "TTS audio saved to: /content/data/alsu/alsu_бала.wav\n",
            "WAV file saved: /content/data/alsu/alsu_ир.wav\n",
            "TTS audio saved to: /content/data/alsu/alsu_ир.wav\n",
            "WAV file saved: /content/data/alsu/alsu_хатын.wav\n",
            "TTS audio saved to: /content/data/alsu/alsu_хатын.wav\n",
            "WAV file saved: /content/data/alsu/alsu_бабай.wav\n",
            "TTS audio saved to: /content/data/alsu/alsu_бабай.wav\n",
            "WAV file saved: /content/data/alsu/alsu_әби.wav\n",
            "TTS audio saved to: /content/data/alsu/alsu_әби.wav\n",
            "WAV file saved: /content/data/alsu/alsu_онык.wav\n",
            "TTS audio saved to: /content/data/alsu/alsu_онык.wav\n",
            "WAV file saved: /content/data/alsu/alsu_чәчәк.wav\n",
            "TTS audio saved to: /content/data/alsu/alsu_чәчәк.wav\n",
            "WAV file saved: /content/data/alsu/alsu_көз.wav\n",
            "TTS audio saved to: /content/data/alsu/alsu_көз.wav\n"
          ]
        }
      ]
    },
    {
      "cell_type": "code",
      "execution_count": 4,
      "metadata": {
        "colab": {
          "base_uri": "https://localhost:8080/"
        },
        "id": "JOlmd1sktniz",
        "outputId": "7e3a3c5d-8ca1-4f2e-9538-a4c2e9307997"
      },
      "outputs": [
        {
          "output_type": "stream",
          "name": "stdout",
          "text": [
            "Requirement already satisfied: resampy in /usr/local/lib/python3.10/dist-packages (0.4.3)\n",
            "Requirement already satisfied: numpy>=1.17 in /usr/local/lib/python3.10/dist-packages (from resampy) (1.25.2)\n",
            "Requirement already satisfied: numba>=0.53 in /usr/local/lib/python3.10/dist-packages (from resampy) (0.58.1)\n",
            "Requirement already satisfied: llvmlite<0.42,>=0.41.0dev0 in /usr/local/lib/python3.10/dist-packages (from numba>=0.53->resampy) (0.41.1)\n"
          ]
        }
      ],
      "source": [
        "!pip install resampy\n",
        "import resampy\n",
        "\n",
        "import os\n",
        "\n",
        "import librosa\n",
        "\n",
        "import numpy as np\n",
        "\n",
        "from tensorflow.keras.models import load_model\n",
        "\n",
        "from sklearn.model_selection import train_test_split\n",
        "\n",
        "from tensorflow.keras import layers, models\n",
        "\n",
        "import os\n",
        "\n",
        "import numpy as np\n",
        "\n",
        "from tensorflow.keras.preprocessing.sequence import pad_sequences"
      ]
    },
    {
      "cell_type": "code",
      "source": [
        "def extract_features (file_path, maxlen=None):\n",
        "    try:\n",
        "        audio, sr = librosa.load(file_path, res_type='kaiser_fast')\n",
        "        if len(audio) == 0:\n",
        "           raise ValueError(\"Input signal length is too small in file: (file_path}\")\n",
        "        if sr != 22050:\n",
        "            audio= librosa.resample (audio, sr, 22050)\n",
        "        mfccs= librosa.feature.mfcc(y=audio, sr=22050, n_mfcc=13)\n",
        "        if maxlen and mfccs.shape[1] > maxlen:\n",
        "           mfccs = mfccs[:, :maxlen]\n",
        "        elif maxlen and mfccs.shape[1] < maxlen:\n",
        "            mfccs= np.pad(mfccs, ((0, 0), (0, maxlen- mfccs.shape[1])))\n",
        "        return mfccs\n",
        "    except Exception as e:\n",
        "            print(\"Error processing file (file_path}: {e}\")\n",
        "            return None\n"
      ],
      "metadata": {
        "id": "3W5tUnvxt1m7"
      },
      "execution_count": 5,
      "outputs": []
    },
    {
      "cell_type": "code",
      "source": [
        "def load_data(data_folder, maxlen=None):\n",
        "      data=[]\n",
        "      labels=[]\n",
        "      print(os.listdir(data_folder))\n",
        "      for id_class in os.listdir(data_folder):\n",
        "            if id_class=='.ipynb_checkpoints':\n",
        "                continue\n",
        "            class_folder=os.path.join(data_folder, id_class)\n",
        "            if not os.path.isdir(class_folder):\n",
        "                continue\n",
        "            for file in os.listdir(class_folder):\n",
        "                file_path=os.path.join(class_folder, file)\n",
        "                if not file_path.endswith(('.wav', '.mp3', '.ogg')):\n",
        "                      continue\n",
        "                mfccs = extract_features (file_path, maxlen=maxlen)\n",
        "                if mfccs is not None:\n",
        "                    data.append(mfccs)\n",
        "                    labels.append(id_class)\n",
        "      data_padded =pad_sequences (data, dtype=\"float32\", padding=\"post\", truncating=\"post\", maxlen=maxlen)\n",
        "      return np.array(data_padded), np.array(labels)"
      ],
      "metadata": {
        "id": "VsY0y_jpt9MG"
      },
      "execution_count": 6,
      "outputs": []
    },
    {
      "cell_type": "code",
      "source": [
        "data_folder = '/content/data'\n",
        "maxlen=150\n",
        "data, labels = load_data(data_folder, maxlen=maxlen)\n",
        "train_data, test_data, train_labels, test_labels =train_test_split(data, labels, test_size=0.2, random_state=42)\n",
        "print(train_labels)"
      ],
      "metadata": {
        "colab": {
          "base_uri": "https://localhost:8080/"
        },
        "id": "4lSt2GgguDvV",
        "outputId": "1ec2c6f4-477b-4975-81b6-7442595da54c"
      },
      "execution_count": 7,
      "outputs": [
        {
          "output_type": "stream",
          "name": "stdout",
          "text": [
            "['.ipynb_checkpoints', 'alsu', 'almaz']\n",
            "['almaz' 'almaz' 'alsu' 'alsu' 'almaz' 'alsu' 'alsu' 'almaz' 'alsu'\n",
            " 'almaz' 'alsu' 'alsu' 'almaz' 'alsu' 'almaz' 'alsu' 'almaz' 'almaz'\n",
            " 'alsu' 'alsu' 'alsu' 'alsu' 'alsu' 'almaz' 'alsu' 'alsu' 'almaz' 'alsu'\n",
            " 'almaz' 'alsu' 'alsu' 'alsu' 'alsu' 'alsu' 'alsu' 'almaz' 'alsu' 'almaz'\n",
            " 'alsu' 'almaz' 'almaz' 'almaz' 'almaz' 'alsu' 'almaz' 'almaz' 'alsu'\n",
            " 'almaz' 'almaz' 'almaz' 'almaz' 'alsu' 'almaz' 'alsu' 'almaz' 'almaz'\n",
            " 'almaz' 'alsu' 'almaz' 'almaz' 'almaz' 'almaz' 'alsu' 'alsu' 'alsu'\n",
            " 'almaz' 'alsu' 'alsu' 'alsu' 'almaz' 'almaz' 'almaz' 'almaz' 'almaz'\n",
            " 'alsu' 'almaz' 'almaz' 'alsu' 'almaz' 'almaz']\n"
          ]
        }
      ]
    },
    {
      "cell_type": "code",
      "source": [
        "from tensorflow.keras.models import Sequential\n",
        "from tensorflow.keras.layers import Conv2D, MaxPooling2D, Flatten, Dense\n",
        "#Define the model\n",
        "model =Sequential()\n",
        "model.add(Conv2D(64, (3, 3), activation=\"relu\", input_shape=(150, 150, 1)))\n",
        "model.add(MaxPooling2D((2, 2)))\n",
        "model.add(Conv2D(32, (3, 3), activation=\"relu\", input_shape=(150, 150, 1)))\n",
        "model.add(MaxPooling2D((2, 2)))\n",
        "model.add(Flatten())\n",
        "model.add(Dense(128, activation=\"relu\"))\n",
        "model.add(Dense(2, activation=\"softmax\"))\n",
        "from sklearn.preprocessing import LabelEncoder\n",
        "label_encoder=LabelEncoder()\n",
        "train_labels_encoded=label_encoder.fit_transform(train_labels)\n",
        "test_labels_encoded =label_encoder.transform(test_labels)\n",
        "model.compile(optimizer=\"adam\", loss=\"sparse_categorical_crossentropy\", metrics=[\"accuracy\"])\n",
        "history=model.fit(train_data, train_labels_encoded, epochs=18, validation_data=(test_data, test_labels_encoded))\n",
        "model.save('id_classifier_model.h5')\n"
      ],
      "metadata": {
        "colab": {
          "base_uri": "https://localhost:8080/"
        },
        "id": "vXrowx4fuNCB",
        "outputId": "44c1d56e-b4f8-42ab-a9af-57ba93bf88a2"
      },
      "execution_count": 14,
      "outputs": [
        {
          "output_type": "stream",
          "name": "stdout",
          "text": [
            "Epoch 1/18\n",
            "3/3 [==============================] - 8s 2s/step - loss: 2.5152 - accuracy: 0.5625 - val_loss: 6.2353 - val_accuracy: 0.4000\n",
            "Epoch 2/18\n",
            "3/3 [==============================] - 6s 2s/step - loss: 1.9481 - accuracy: 0.7250 - val_loss: 0.6325 - val_accuracy: 0.7000\n",
            "Epoch 3/18\n",
            "3/3 [==============================] - 4s 945ms/step - loss: 0.4049 - accuracy: 0.8375 - val_loss: 0.0699 - val_accuracy: 1.0000\n",
            "Epoch 4/18\n",
            "3/3 [==============================] - 3s 1s/step - loss: 0.0502 - accuracy: 1.0000 - val_loss: 0.1727 - val_accuracy: 0.9500\n",
            "Epoch 5/18\n",
            "3/3 [==============================] - 4s 1s/step - loss: 0.1012 - accuracy: 0.9625 - val_loss: 0.1053 - val_accuracy: 0.9500\n",
            "Epoch 6/18\n",
            "3/3 [==============================] - 3s 1s/step - loss: 0.0347 - accuracy: 1.0000 - val_loss: 0.0155 - val_accuracy: 1.0000\n",
            "Epoch 7/18\n",
            "3/3 [==============================] - 3s 1s/step - loss: 0.0092 - accuracy: 1.0000 - val_loss: 0.0082 - val_accuracy: 1.0000\n",
            "Epoch 8/18\n",
            "3/3 [==============================] - 3s 1s/step - loss: 0.0118 - accuracy: 1.0000 - val_loss: 0.0128 - val_accuracy: 1.0000\n",
            "Epoch 9/18\n",
            "3/3 [==============================] - 4s 1s/step - loss: 0.0080 - accuracy: 1.0000 - val_loss: 0.0069 - val_accuracy: 1.0000\n",
            "Epoch 10/18\n",
            "3/3 [==============================] - 3s 962ms/step - loss: 0.0033 - accuracy: 1.0000 - val_loss: 0.0025 - val_accuracy: 1.0000\n",
            "Epoch 11/18\n",
            "3/3 [==============================] - 3s 980ms/step - loss: 0.0011 - accuracy: 1.0000 - val_loss: 0.0012 - val_accuracy: 1.0000\n",
            "Epoch 12/18\n",
            "3/3 [==============================] - 3s 974ms/step - loss: 6.8269e-04 - accuracy: 1.0000 - val_loss: 8.0406e-04 - val_accuracy: 1.0000\n",
            "Epoch 13/18\n",
            "3/3 [==============================] - 5s 2s/step - loss: 7.8390e-04 - accuracy: 1.0000 - val_loss: 7.0002e-04 - val_accuracy: 1.0000\n",
            "Epoch 14/18\n",
            "3/3 [==============================] - 3s 922ms/step - loss: 7.7098e-04 - accuracy: 1.0000 - val_loss: 6.1294e-04 - val_accuracy: 1.0000\n",
            "Epoch 15/18\n",
            "3/3 [==============================] - 3s 912ms/step - loss: 6.2252e-04 - accuracy: 1.0000 - val_loss: 4.7341e-04 - val_accuracy: 1.0000\n",
            "Epoch 16/18\n",
            "3/3 [==============================] - 3s 993ms/step - loss: 4.4731e-04 - accuracy: 1.0000 - val_loss: 3.7382e-04 - val_accuracy: 1.0000\n",
            "Epoch 17/18\n",
            "3/3 [==============================] - 4s 1s/step - loss: 3.2469e-04 - accuracy: 1.0000 - val_loss: 3.2505e-04 - val_accuracy: 1.0000\n",
            "Epoch 18/18\n",
            "3/3 [==============================] - 4s 1s/step - loss: 2.3813e-04 - accuracy: 1.0000 - val_loss: 3.0457e-04 - val_accuracy: 1.0000\n"
          ]
        },
        {
          "output_type": "stream",
          "name": "stderr",
          "text": [
            "/usr/local/lib/python3.10/dist-packages/keras/src/engine/training.py:3103: UserWarning: You are saving your model as an HDF5 file via `model.save()`. This file format is considered legacy. We recommend using instead the native Keras format, e.g. `model.save('my_model.keras')`.\n",
            "  saving_api.save_model(\n"
          ]
        }
      ]
    },
    {
      "cell_type": "code",
      "source": [
        "model.summary()"
      ],
      "metadata": {
        "colab": {
          "base_uri": "https://localhost:8080/"
        },
        "id": "O41cIyZDyBSu",
        "outputId": "42dd2c3b-db90-4c31-b2af-c114bd64738e"
      },
      "execution_count": 20,
      "outputs": [
        {
          "output_type": "stream",
          "name": "stdout",
          "text": [
            "Model: \"sequential_1\"\n",
            "_________________________________________________________________\n",
            " Layer (type)                Output Shape              Param #   \n",
            "=================================================================\n",
            " conv2d_2 (Conv2D)           (None, 148, 148, 64)      640       \n",
            "                                                                 \n",
            " max_pooling2d_2 (MaxPoolin  (None, 74, 74, 64)        0         \n",
            " g2D)                                                            \n",
            "                                                                 \n",
            " conv2d_3 (Conv2D)           (None, 72, 72, 32)        18464     \n",
            "                                                                 \n",
            " max_pooling2d_3 (MaxPoolin  (None, 36, 36, 32)        0         \n",
            " g2D)                                                            \n",
            "                                                                 \n",
            " flatten_1 (Flatten)         (None, 41472)             0         \n",
            "                                                                 \n",
            " dense_2 (Dense)             (None, 128)               5308544   \n",
            "                                                                 \n",
            " dense_3 (Dense)             (None, 2)                 258       \n",
            "                                                                 \n",
            "=================================================================\n",
            "Total params: 5327906 (20.32 MB)\n",
            "Trainable params: 5327906 (20.32 MB)\n",
            "Non-trainable params: 0 (0.00 Byte)\n",
            "_________________________________________________________________\n"
          ]
        }
      ]
    },
    {
      "cell_type": "code",
      "source": [
        "history_dict = history.history\n",
        "loss = history_dict['loss']\n",
        "val_loss = history_dict['val_loss']\n",
        "accuracy = history_dict['accuracy']\n",
        "val_accuracy = history_dict['val_accuracy']\n",
        "\n",
        "# Creating epochs range\n",
        "epochs = range(1, len(loss) + 1)\n",
        "\n",
        "# Plotting the training and validation loss\n",
        "plt.figure(figsize=(14, 5))\n",
        "\n",
        "plt.subplot(1, 2, 1)\n",
        "plt.plot(epochs, loss, 'bo', label='Training loss')\n",
        "plt.plot(epochs, val_loss, 'b', label='Validation loss')\n",
        "plt.title('Training and Validation Loss')\n",
        "plt.xlabel('Epochs')\n",
        "plt.ylabel('Loss')\n",
        "plt.legend()\n",
        "\n",
        "# Plotting the training and validation accuracy\n",
        "plt.subplot(1, 2, 2)\n",
        "plt.plot(epochs, accuracy, 'bo', label='Training accuracy')\n",
        "plt.plot(epochs, val_accuracy, 'b', label='Validation accuracy')\n",
        "plt.title('Training and Validation Accuracy')\n",
        "plt.xlabel('Epochs')\n",
        "plt.ylabel('Accuracy')\n",
        "plt.legend()\n",
        "\n",
        "plt.tight_layout()\n",
        "plt.show()"
      ],
      "metadata": {
        "colab": {
          "base_uri": "https://localhost:8080/",
          "height": 507
        },
        "id": "bME49Qo9xuhb",
        "outputId": "ce9fa50b-37e9-44d4-85af-309fb870caf4"
      },
      "execution_count": 15,
      "outputs": [
        {
          "output_type": "display_data",
          "data": {
            "text/plain": [
              "<Figure size 1400x500 with 2 Axes>"
            ],
            "image/png": "[encoded data removed]"
          },
          "metadata": {}
        }
      ]
    },
    {
      "cell_type": "code",
      "source": [
        "predictions = model.predict(test_data)\n"
      ],
      "metadata": {
        "colab": {
          "base_uri": "https://localhost:8080/"
        },
        "id": "lWVM3-C1uqwx",
        "outputId": "ecdf6b50-4d02-48de-c1d1-bbb61ed4dadd"
      },
      "execution_count": 16,
      "outputs": [
        {
          "output_type": "stream",
          "name": "stdout",
          "text": [
            "1/1 [==============================] - 0s 323ms/step\n"
          ]
        }
      ]
    },
    {
      "cell_type": "code",
      "source": [
        "predicted_labels = np.argmax(predictions, axis=1)\n"
      ],
      "metadata": {
        "id": "7zJ210zLurta"
      },
      "execution_count": 17,
      "outputs": []
    },
    {
      "cell_type": "code",
      "source": [
        "true_labels = test_labels_encoded\n"
      ],
      "metadata": {
        "id": "i5HdEN1Duw48"
      },
      "execution_count": 18,
      "outputs": []
    },
    {
      "cell_type": "code",
      "source": [
        "import matplotlib.pyplot as plt\n",
        "import seaborn as sns\n",
        "from sklearn.metrics import accuracy_score, precision_score, recall_score, f1_score, confusion_matrix\n",
        "\n",
        "# Assuming true_labels and predicted_labels are defined\n",
        "accuracy = accuracy_score(true_labels, predicted_labels)\n",
        "precision = precision_score(true_labels, predicted_labels, average='weighted')\n",
        "recall = recall_score(true_labels, predicted_labels, average='weighted')\n",
        "f1 = f1_score(true_labels, predicted_labels, average='weighted')\n",
        "conf_matrix = confusion_matrix(true_labels, predicted_labels)\n",
        "\n",
        "# Print the metrics\n",
        "print(f'Accuracy: {accuracy}')\n",
        "print(f'Precision: {precision}')\n",
        "print(f'Recall: {recall}')\n",
        "print(f'F1 Score: {f1}')\n",
        "print('Confusion Matrix:')\n",
        "print(conf_matrix)\n",
        "\n",
        "# Plotting the confusion matrix\n",
        "plt.figure(figsize=(10, 7))\n",
        "sns.heatmap(conf_matrix, annot=True, fmt='d', cmap='Blues')\n",
        "plt.xlabel('Predicted')\n",
        "plt.ylabel('True')\n",
        "plt.title('Confusion Matrix')\n",
        "plt.show()\n",
        "\n",
        "# Plotting the precision, recall, and F1 score\n",
        "metrics = {'Accuracy': accuracy, 'Precision': precision, 'Recall': recall, 'F1 Score': f1}\n",
        "names = list(metrics.keys())\n",
        "values = list(metrics.values())\n",
        "\n",
        "plt.figure(figsize=(10, 5))\n",
        "plt.bar(names, values, color=['blue', 'orange', 'green', 'red'])\n",
        "plt.ylim(0, 1)\n",
        "plt.title('Evaluation Metrics')\n",
        "plt.show()\n"
      ],
      "metadata": {
        "colab": {
          "base_uri": "https://localhost:8080/",
          "height": 1000
        },
        "id": "WrMRYkStu4UM",
        "outputId": "6c105159-bbb1-4489-b777-d48ff678c7a7"
      },
      "execution_count": 19,
      "outputs": [
        {
          "output_type": "stream",
          "name": "stdout",
          "text": [
            "Accuracy: 1.0\n",
            "Precision: 1.0\n",
            "Recall: 1.0\n",
            "F1 Score: 1.0\n",
            "Confusion Matrix:\n",
            "[[ 8  0]\n",
            " [ 0 12]]\n"
          ]
        },
        {
          "output_type": "display_data",
          "data": {
            "text/plain": [
              "<Figure size 1000x700 with 2 Axes>"
            ],
            "image/png": "[encoded data removed]"
          },
          "metadata": {}
        },
        {
          "output_type": "display_data",
          "data": {
            "text/plain": [
              "<Figure size 1000x500 with 1 Axes>"
            ],
            "image/png": "[encoded data removed]"
          },
          "metadata": {}
        }
      ]
    },
    {
      "cell_type": "code",
      "source": [
        "import tensorflow\n",
        "def predict_from_file(file_path, model, maxlen=None):\n",
        "    try:\n",
        "\n",
        "        # Extract features from the audio file\n",
        "        audio, sr = librosa.load(file_path, res_type='kaiser_fast')\n",
        "        if len(audio) == 0:\n",
        "            raise ValueError(f\"Input signal length is too small in file: {file_path}\")\n",
        "        # Resample if needed\n",
        "        if sr != 22050:\n",
        "           audio=librosa.resample (audio, sr, 22050)\n",
        "\n",
        "        mfccs = librosa.feature.mfcc(y=audio, sr=22050, n_mfcc=13)\n",
        "        # Ensure all sequences have the same length\n",
        "\n",
        "\n",
        "        if maxlen and mfccs.shape[1] > maxlen:\n",
        "           mfccs = mfccs[:, :maxlen]\n",
        "        elif maxlen and mfccs.shape[1] < maxlen:\n",
        "\n",
        "             mfccs = np.pad(mfccs, ((0, 0), (0, maxlen-mfccs.shape[1])))\n",
        "        # Expand dimensions to match model input shape\n",
        "        mfccs = np.expand_dims(mfccs, axis=-1)\n",
        "        mfccs =np.expand_dims (mfccs, axis=0)\n",
        "        # Resize the input data to match the expected shape (150, 150, 1)\n",
        "        mfccs_resized = tensorflow.image.resize(mfccs, (150, 150))\n",
        "        # Make predictions\n",
        "        prediction = model.predict(mfccs_resized)\n",
        "\n",
        "        predicted_class = np.argmax(prediction)\n",
        "        return predicted_class\n",
        "    except Exception as e:\n",
        "            print (f\"Error predicting from file {file_path}: {e}\")\n",
        "            return None\n",
        "            # Path to the single wave file for prediction\n",
        "wave_file_path = '/content/data/alsu/alsu_авыл.wav'\n",
        "# Make prediction\n",
        "prediction_result = predict_from_file(wave_file_path, model, maxlen=150)\n",
        "# Display the predicted class index\n",
        "print (f'The predicted class index is: {prediction_result}')"
      ],
      "metadata": {
        "id": "-F5TcR4exBCo"
      },
      "execution_count": null,
      "outputs": []
    }
  ]
}