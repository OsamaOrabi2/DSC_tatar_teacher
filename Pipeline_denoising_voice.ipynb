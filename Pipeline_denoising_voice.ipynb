{
  "nbformat": 4,
  "nbformat_minor": 0,
  "metadata": {
    "colab": {
      "provenance": []
    },
    "kernelspec": {
      "name": "python3",
      "display_name": "Python 3"
    },
    "language_info": {
      "name": "python"
    }
  },
  "cells": [
    {
      "cell_type": "code",
      "source": [
        "import numpy as np\n",
        "import noisereduce as nr\n",
        "from pydub import AudioSegment\n",
        "from pydub.playback import play\n",
        "import matplotlib.pyplot as plt\n",
        "def f(path):\n",
        "    # Function to load audio file\n",
        "    def calculate_area(signal):\n",
        "        return simps(np.abs(signal))\n",
        "    def load_audio(file_path):\n",
        "        audio = AudioSegment.from_file(file_path)\n",
        "        return np.array(audio.get_array_of_samples()), audio.frame_rate\n",
        "\n",
        "    # Function to save audio file\n",
        "    def save_audio(data, sample_rate, output_path):\n",
        "        audio_segment = AudioSegment(\n",
        "            data.tobytes(),\n",
        "            frame_rate=sample_rate,\n",
        "            sample_width=data.dtype.itemsize,\n",
        "            channels=1\n",
        "        )\n",
        "        audio_segment.export(output_path, format=\"wav\")\n",
        "\n",
        "    # Function to plot waveforms\n",
        "    def plot_waveform(original, denoised, sample_rate):\n",
        "        plt.figure(figsize=(15, 6))\n",
        "\n",
        "        plt.subplot(2, 1, 1)\n",
        "        plt.plot(np.linspace(0, len(original) / sample_rate, num=len(original)), original)\n",
        "        plt.title('Original Audio')\n",
        "\n",
        "        plt.subplot(2, 1, 2)\n",
        "        plt.plot(np.linspace(0, len(denoised) / sample_rate, num=len(denoised)), denoised)\n",
        "        plt.title('Denoised Audio')\n",
        "\n",
        "        plt.tight_layout()\n",
        "        plt.show()\n",
        "\n",
        "    # Load original audio\n",
        "    original_audio, sample_rate = load_audio(path)\n",
        "\n",
        "    # Perform noise reduction\n",
        "    denoised_audio = nr.reduce_noise(y=original_audio, sr=sample_rate)\n",
        "\n",
        "\n",
        "    original_area = calculate_area(original_audio)\n",
        "    denoised_area = calculate_area(denoised_audio)\n",
        "    ratio = denoised_area / original_area\n",
        "\n",
        "\n",
        "    return denoised_audio, ratio"
      ],
      "metadata": {
        "id": "_-LOVkDspZct"
      },
      "execution_count": 42,
      "outputs": []
    },
    {
      "cell_type": "code",
      "source": [
        "path1 = '/content/drive/MyDrive/audio_2024-05-18_20-45-59.ogg'\n",
        "path2 = '/content/drive/MyDrive/audio_2024-05-18_20-46-03.ogg'\n",
        "path3 = '/content/drive/MyDrive/audio_2024-05-18_20-46-08.ogg'\n",
        "path4 = '/content/drive/MyDrive/audio_2024-05-18_21-12-41.ogg'\n",
        "path5 = '/content/drive/MyDrive/audio_2024-05-18_21-27-02.ogg'\n",
        "path6 = '/content/drive/MyDrive/audio_2024-05-18_21-26-59.ogg'\n",
        "f(path6)"
      ],
      "metadata": {
        "colab": {
          "base_uri": "https://localhost:8080/"
        },
        "id": "gsV7PGjt0Ybo",
        "outputId": "8c641ac5-5a54-4296-db29-0091381e9127"
      },
      "execution_count": 43,
      "outputs": [
        {
          "output_type": "execute_result",
          "data": {
            "text/plain": [
              "(memmap([0, 0, 0, ..., 0, 0, 0], dtype=int16), 0.11326665925157234)"
            ]
          },
          "metadata": {},
          "execution_count": 43
        }
      ]
    },
    {
      "cell_type": "code",
      "source": [],
      "metadata": {
        "id": "HS5N8_qB_7YF"
      },
      "execution_count": 39,
      "outputs": []
    }
  ]
}